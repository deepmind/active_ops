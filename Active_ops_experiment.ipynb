{
  "cells": [
    {
      "cell_type": "markdown",
      "metadata": {
        "id": "nw9XfA0j17JW"
      },
      "source": [
        "Copyright 2021 DeepMind Technologies Limited.\n",
        "\n",
        "\n",
        "Licensed under the Apache License, Version 2.0 (the \"License\");\n",
        "you may not use this file except in compliance with the License.\n",
        "You may obtain a copy of the License at\n",
        "\n",
        "https://www.apache.org/licenses/LICENSE-2.0\n",
        "\n",
        "Unless required by applicable law or agreed to in writing, software\n",
        "distributed under the License is distributed on an \"AS IS\" BASIS,\n",
        "WITHOUT WARRANTIES OR CONDITIONS OF ANY KIND, either express or implied.\n",
        "See the License for the specific language governing permissions and\n",
        "limitations under the License."
      ]
    },
    {
      "cell_type": "code",
      "execution_count": null,
      "metadata": {
        "id": "ydv49Nb_I-94"
      },
      "outputs": [],
      "source": [
        "import bandit\n",
        "import multiarm_model\n",
        "import arm_model\n",
        "import agents as agent_classes\n",
        "import kernel as kernel_classes\n",
        "\n",
        "import random\n",
        "from typing import List, Dict\n",
        "import pickle as pkl\n",
        "from scipy import spatial\n",
        "import numpy as np\n",
        "import copy\n",
        "import matplotlib.pyplot as plt\n",
        "%matplotlib inline"
      ]
    },
    {
      "cell_type": "markdown",
      "metadata": {
        "id": "5RLc559y-ppA"
      },
      "source": [
        "Function to run a single experiment with a list of agents."
      ]
    },
    {
      "cell_type": "code",
      "execution_count": null,
      "metadata": {
        "id": "-9WsHTwQpzRx"
      },
      "outputs": [],
      "source": [
        "def run_experiment(agents: Dict[str, agent_classes.Agent], world, n_steps: int,\n",
        "                   best_mean: float,\n",
        "                   true_mean: np.ndarray) -\u003e Dict[str, List[float]]:\n",
        "  \"\"\"Given a number of agents, run one experiments with world for n_steps.\"\"\"\n",
        "  current_sim_regrets = {name: [] for name in agents}\n",
        "  for _ in range(n_steps):\n",
        "    for agent_name in agents:\n",
        "      a = agents[agent_name].select_action()\n",
        "      r = world.pull(a)\n",
        "      agents[agent_name].update(a, r)\n",
        "      current_sim_regrets[agent_name].append(\n",
        "          best_mean - true_mean[agents[agent_name].best_arm])\n",
        "  return current_sim_regrets"
      ]
    },
    {
      "cell_type": "markdown",
      "metadata": {
        "id": "AxQvvA-T68TM"
      },
      "source": [
        "Function to read actions of the policies and to compute the kernel based on them."
      ]
    },
    {
      "cell_type": "code",
      "execution_count": null,
      "metadata": {
        "id": "E69clygd1ee_"
      },
      "outputs": [],
      "source": [
        "def get_experiment_distances(policies: Dict[str, float]):\n",
        "  \"\"\"Get the policy distances of the current experiment.\"\"\"\n",
        "  # Load actions that the policies take.\n",
        "  with open('./data/actions.pkl', 'rb') as f:\n",
        "    actions_policy_keys_in_distances = pkl.load(f)\n",
        "  all_predictions = actions_policy_keys_in_distances['actions']\n",
        "  policy_keys_in_distances = actions_policy_keys_in_distances['policy_keys']\n",
        "\n",
        "  # Compute distances between actions.\n",
        "  all_distances = []\n",
        "  for i in range(np.shape(np.array(all_predictions))[0]):\n",
        "    distance = spatial.distance.cdist(\n",
        "        np.array(all_predictions)[i, :, :],\n",
        "        np.array(all_predictions)[i, :, :], 'euclidean')\n",
        "    all_distances.append(distance)\n",
        "  distances = np.mean(np.array(all_distances), axis=0)\n",
        "\n",
        "  # Depending on a subset of selected policies and their order, get a smaller distance matrix.\n",
        "  experiment_distances = kernel_classes.select_experiment_distances(\n",
        "      policies, policy_keys_in_distances, distances)\n",
        "  return experiment_distances"
      ]
    },
    {
      "cell_type": "markdown",
      "metadata": {
        "id": "9L9Ilbvf6jFf"
      },
      "source": [
        "Get samples of the policies returns."
      ]
    },
    {
      "cell_type": "code",
      "execution_count": null,
      "metadata": {
        "id": "0_jSVfijHz5y"
      },
      "outputs": [],
      "source": [
        "with open('./data/full_reward_samples.pkl', 'rb') as f:\n",
        "  full_reward_samples_dict = pkl.load(f)"
      ]
    },
    {
      "cell_type": "markdown",
      "metadata": {
        "id": "6YtqYm1Q6NUG"
      },
      "source": [
        "Load information about the policies: their ids, FQE estimates and GT performance."
      ]
    },
    {
      "cell_type": "code",
      "execution_count": null,
      "metadata": {
        "id": "_yDIdwlW6KfV"
      },
      "outputs": [],
      "source": [
        "with open('./data/ope_values.pkl', 'rb') as f:\n",
        "  ope_values = pkl.load(f)"
      ]
    },
    {
      "cell_type": "markdown",
      "metadata": {
        "id": "trPy4BY-7FEk"
      },
      "source": [
        "Experimental parameters."
      ]
    },
    {
      "cell_type": "code",
      "execution_count": null,
      "metadata": {
        "id": "N9uGVDxQGm2c"
      },
      "outputs": [],
      "source": [
        "n_experiments = 100  # @param\n",
        "n_steps = 100  # @param\n",
        "num_policies = 50  # @param\n",
        "use_fqe = True  # @param\n",
        "use_prior = False\n",
        "\n",
        "if not use_fqe:\n",
        "  use_prior = True\n",
        "\n",
        "# GP optimizer\n",
        "optimizer_config = dict(\n",
        "    optimizer_name='Adam',\n",
        "    learning_rate=0.001,\n",
        "    steps_per_update=1000,\n",
        "    kwargs=dict(\n",
        "        beta1=0.9,\n",
        "        beta2=0.999,\n",
        "    ),\n",
        ")\n",
        "\n",
        "# Priors.\n",
        "arm_kwargs = [{\n",
        "    'prior_mean': 0.0,\n",
        "    'prior_std': 1000.,\n",
        "    'alpha': 1.,\n",
        "    'beta': 1000.,\n",
        "    'sample': False,\n",
        "    'steps': 10,\n",
        "    'burnin': 0\n",
        "} for _ in range(num_policies)]\n",
        "prior = dict(use_prior=use_prior, alpha=1., beta=200.)\n",
        "\n",
        "sim_regrets = None\n",
        "regrets_fqe = []"
      ]
    },
    {
      "cell_type": "markdown",
      "metadata": {
        "id": "JpTnyU66-0rQ"
      },
      "source": [
        "Run the experiment!\n",
        "\n",
        "Please note that it may take several hours to run the full experiment. For experimentation purposes, in order to get the results faster, the number of runs and the number of steps may be reduced. To verify that the code runs you can start with 10 experiments (n_experiments) with 10 steps (n_steps)."
      ]
    },
    {
      "cell_type": "code",
      "execution_count": null,
      "metadata": {
        "id": "bPJl8JW4kZk9"
      },
      "outputs": [],
      "source": [
        "for _ in range(n_experiments):\n",
        "  print(_)\n",
        "  # Make a world with randomly selected policies.\n",
        "  np.random.seed(seed=805 + _)\n",
        "  # selected_policies_fqe = task_data.iloc[np.random.choice(len(task_data), num_policies, replace=False)]\n",
        "  selected_policies_fqe = dict(\n",
        "      random.sample(ope_values.items(), k=num_policies))\n",
        "\n",
        "  world = bandit.MAB(selected_policies_fqe)\n",
        "  world.load_reward_samples(full_reward_samples_dict)\n",
        "\n",
        "  true_mean = np.array([np.mean(rs) for rs in world._rewards])\n",
        "  best_mean = true_mean.max()\n",
        "\n",
        "  # FQE instead of a-ops.\n",
        "  regret_fqe = best_mean - true_mean[np.argmax(world.opes)]\n",
        "  regrets_fqe.append(regret_fqe)\n",
        "\n",
        "  # Independent arm model.\n",
        "\n",
        "  model_ind = multiarm_model.IndependentMultiArmModel(\n",
        "      world.num_arms,\n",
        "      arm_model.SingleBayesArm,\n",
        "      arm_args=None,\n",
        "      arm_kwargs=arm_kwargs)\n",
        "  if use_fqe:\n",
        "    for a in range(len(world.opes)):\n",
        "      model_ind.update(a, world.opes[a])\n",
        "\n",
        "  # Kernel for GP.\n",
        "  experiment_distances = get_experiment_distances(\n",
        "      policies=selected_policies_fqe)\n",
        "  kernel = kernel_classes.ActionDistanceMatern12(\n",
        "      experiment_distances,\n",
        "      lengthscale=np.median(experiment_distances),\n",
        "      bias_variance=10.,\n",
        "      variance_prior=prior)\n",
        "\n",
        "  # GP as arm model.\n",
        "  model_gp = multiarm_model.MVNormal(\n",
        "      num_arms=world.num_arms,\n",
        "      offset=0.,\n",
        "      kernel=kernel,\n",
        "      observation_noise_variance=1000.,\n",
        "      optimizer_config=optimizer_config,\n",
        "      observation_noise_variance_prior=prior)\n",
        "  if use_fqe:\n",
        "    for a in range(len(world.opes)):\n",
        "      model_gp.update(a, world.opes[a])\n",
        "\n",
        "  # Make agents.\n",
        "  agent_ind_uniform = agent_classes.UniformAgent(copy.deepcopy(model_ind))\n",
        "  agent_gp_uniform = agent_classes.UniformAgent(copy.deepcopy(model_gp))\n",
        "  if use_fqe:\n",
        "    agent_ind_ucb = agent_classes.UCBAgent(\n",
        "        copy.deepcopy(model_ind), exploration_coef=5)\n",
        "    agent_gp_ucb = agent_classes.UCBAgent(\n",
        "        copy.deepcopy(model_gp), exploration_coef=5)\n",
        "  # If no FQE is available at the start, first sample a few datapoints.\n",
        "  else:\n",
        "    agent_ind_ucb = agent_classes.UCBAgent(\n",
        "        copy.deepcopy(model_ind), exploration_coef=5, initial_rand_samples=5)\n",
        "    agent_gp_ucb = agent_classes.UCBAgent(\n",
        "        copy.deepcopy(model_gp), exploration_coef=5, initial_rand_samples=5)\n",
        "  agents = {\n",
        "      'Ind+Uniform+OPE': agent_ind_uniform,\n",
        "      'Ind+UCB+OPE': agent_ind_ucb,\n",
        "      'GP+Uniform+OPE': agent_gp_uniform,\n",
        "      'A-ops': agent_gp_ucb\n",
        "  }\n",
        "\n",
        "  # Run experiment and collect results data.\n",
        "  current_sim_regrets = run_experiment(\n",
        "      agents=agents,\n",
        "      world=world,\n",
        "      n_steps=n_steps,\n",
        "      best_mean=best_mean,\n",
        "      true_mean=true_mean)\n",
        "\n",
        "  if sim_regrets is None:\n",
        "    sim_regrets = {name: [] for name in agents}\n",
        "\n",
        "  for agent_name in agents:\n",
        "    sim_regrets[agent_name].append(current_sim_regrets[agent_name])"
      ]
    },
    {
      "cell_type": "markdown",
      "metadata": {
        "id": "9DUQ1N_N-3GR"
      },
      "source": [
        "Plot the regrets."
      ]
    },
    {
      "cell_type": "code",
      "execution_count": null,
      "metadata": {
        "id": "MoEQQpl9vbUQ"
      },
      "outputs": [],
      "source": [
        "plt.rcParams.update(plt.rcParamsDefault)\n",
        "\n",
        "plt.rc('font', size=8.0)\n",
        "plt.rc('figure', figsize=(2, 1.5))\n",
        "plt.rc('axes', linewidth=0.5, titlesize=6.0)\n",
        "plt.rc('legend', fontsize=7.0, frameon=False)\n",
        "plt.rc('lines', markersize=1, linewidth=0.5)\n",
        "plt.rc('xtick', direction='out')\n",
        "plt.rc('ytick', direction='out')\n",
        "\n",
        "n_steps = len(sim_regrets['Ind+Uniform+OPE'][0])\n",
        "line_colors = {\n",
        "    'Ind+Uniform+OPE': plt.cm.Paired(3),\n",
        "    'Ind+UCB+OPE': plt.cm.Paired(3),\n",
        "    'GP+Uniform+OPE': plt.cm.Paired(9),\n",
        "    'A-ops': plt.cm.Paired(9)\n",
        "}\n",
        "fill_colors = {\n",
        "    'Ind+Uniform+OPE': plt.cm.Paired(2),\n",
        "    'Ind+UCB+OPE': plt.cm.Paired(3),\n",
        "    'GP+Uniform+OPE': plt.cm.Paired(8),\n",
        "    'A-ops': plt.cm.Paired(9)\n",
        "}\n",
        "line_styles = {\n",
        "    'Ind+Uniform+OPE': '--',\n",
        "    'Ind+UCB+OPE': '-',\n",
        "    'GP+Uniform+OPE': '--',\n",
        "    'A-ops': '-'\n",
        "}"
      ]
    },
    {
      "cell_type": "code",
      "execution_count": null,
      "metadata": {
        "colab": {
          "base_uri": "https://localhost:8080/",
          "height": 248
        },
        "executionInfo": {
          "elapsed": 360,
          "status": "ok",
          "timestamp": 1637000560302,
          "user": {
            "displayName": "Ksenia Konyushkova",
            "photoUrl": "https://lh3.googleusercontent.com/a-/AOh14Ggt7tzMt8cDp9l4B0Rueen4XCoPkC_87hwk8XZF=s64",
            "userId": "10369563082587361458"
          },
          "user_tz": 0
        },
        "id": "3dD6gTu3XNPC",
        "outputId": "cb29e442-0d46-47e2-8e8f-0e9fcc6b5cad"
      },
      "outputs": [
        {
          "data": {
            "image/png": "[encoded data removed]",
            "text/plain": [
              "\u003cFigure size 200x150 with 1 Axes\u003e"
            ]
          },
          "metadata": {},
          "output_type": "display_data"
        }
      ],
      "source": [
        "fig = plt.figure()\n",
        "ax = fig.add_axes([0, 0, 1, 1])\n",
        "\n",
        "# Plot OPE performance with standard deviation\n",
        "regret_fqe = np.mean(np.array(regrets_fqe))\n",
        "regret_std = np.std(np.array(regrets_fqe))\n",
        "plt.plot([0, n_steps - 1], [regret_fqe, regret_fqe],\n",
        "         '-.',\n",
        "         lw=1,\n",
        "         color='black',\n",
        "         label='OPE')\n",
        "plt.fill_between([0, n_steps - 1],\n",
        "                 [regret_fqe - regret_std / 2, regret_fqe - regret_std / 2],\n",
        "                 [regret_fqe + regret_std / 2, regret_fqe + regret_std / 2],\n",
        "                 color='k',\n",
        "                 alpha=0.05,\n",
        "                 linewidth=0.0)\n",
        "\n",
        "# Plot agent's performance with standard deviation\n",
        "for agent_name in sim_regrets:\n",
        "  regret_agent = np.mean(np.array(sim_regrets[agent_name]), axis=0)\n",
        "  regret_std = np.std(np.array(sim_regrets[agent_name]), axis=0)\n",
        "  plt.plot(\n",
        "      range(n_steps),\n",
        "      regret_agent,\n",
        "      line_styles[agent_name],\n",
        "      lw=1,\n",
        "      color=line_colors[agent_name],\n",
        "      label=agent_name)\n",
        "  plt.fill_between(\n",
        "      range(n_steps),\n",
        "      regret_agent - regret_std / 2,\n",
        "      regret_agent + regret_std / 2,\n",
        "      facecolor=fill_colors[agent_name],\n",
        "      alpha=0.3,\n",
        "      linewidth=0.0)\n",
        "\n",
        "plt.xlabel('# trajectories')\n",
        "plt.ylabel('simple regret')\n",
        "plt.title('cartpole_swingup' + '\\nSimple regret')\n",
        "plt.legend(loc='upper right', ncol=1, bbox_to_anchor=(1.7, 1))\n",
        "plt.show()"
      ]
    },
    {
      "cell_type": "code",
      "execution_count": null,
      "metadata": {
        "id": "7VCtTRGUnDdf"
      },
      "outputs": [],
      "source": [
        ""
      ]
    }
  ],
  "metadata": {
    "colab": {
      "collapsed_sections": [],
      "last_runtime": {
        "build_target": "unknown",
        "kind": "private"
      },
      "name": "Run a-ops experiment.ipynb",
      "provenance": [
        {
          "file_id": "1GINvR6w9ddNByHOhc9Vntw7HY-BKNzMY",
          "timestamp": 1637000739408
        }
      ]
    },
    "kernelspec": {
      "display_name": "Python 3",
      "name": "python3"
    }
  },
  "nbformat": 4,
  "nbformat_minor": 0
}
